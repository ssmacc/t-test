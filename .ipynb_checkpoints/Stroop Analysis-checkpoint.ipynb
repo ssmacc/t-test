{
 "cells": [
  {
   "cell_type": "markdown",
   "metadata": {},
   "source": [
    "# The Stroop Effect\n",
    "<div style=\"text-align: right\"> Samuel McAuliffe <br> December 2017</div>"
   ]
  },
  {
   "cell_type": "markdown",
   "metadata": {},
   "source": [
    "## Introduction\n",
    "\n",
    "The Stroop task involves presenting participants with a list of color names (Red, Blue, Green, Purple), with each word displayed in color ink. The participants must then say aloud the color of ink with which the color names are written. The task has two conditions: a congruent condition (the color name and ink color are the same) and incongruent (the color name and ink color are different). An example of each of these conditions is shown below -\n",
    "\n",
    "<p style=\"text-align: center\">Congruent :<span style=\"color:red\">Red</span> <span style=\"color:blue\">Blue</span> <span style=\"color:green\">Green</span> <span style=\"color:orange\">Orange</span></p>\n",
    "<p style=\"text-align: center\">Incongruent :<span style=\"color:red\">Blue</span> <span style=\"color:blue\">Green</span> <span style=\"color:green\">Orange</span> <span style=\"color:orange\">Red</span></p>\n",
    "\n",
    "\n",
    "A participant will go through each condition (equally sized list) and the time it takes to name the ink colors is recorded for both"
   ]
  },
  {
   "cell_type": "markdown",
   "metadata": {},
   "source": [
    "## Analyzing the Stroop Effect\n",
    "\n",
    "The analysis is aimed at measuring the time in seconds it takes for a participant to name the ink colors, first for the congruent condition and then for the incongruent condition. Our dependent and independent variables for this experiment are below - "
   ]
  },
  {
   "cell_type": "markdown",
   "metadata": {},
   "source": [
    "<p style=\"text-align: center\"><strong>Dependent Variable: The time in seconds  it takes for participants to name the ink colors.</strong></p>\n",
    "\n",
    "\n",
    "<p style=\"text-align: center\"><strong>Independent Variable: Type of condition (congruent or incongruent) applied to the participant.</strong></p>\n"
   ]
  },
  {
   "cell_type": "markdown",
   "metadata": {},
   "source": [
    "Now that we have defined our variables, we must define an appropriate set of hypotheses for the analysis. "
   ]
  },
  {
   "cell_type": "markdown",
   "metadata": {},
   "source": [
    "<p style=\"text-align: center\"><strong>Null hypothesis:</strong> The incongruent and congruent population means are not different.</p>\n",
    "\n",
    "<p style=\"text-align: center\"><strong>Alternate hypothesis:</strong> The incongruent and congruent population means are different.</p>\n",
    "\n",
    "**$$H_{0} : \\mu_{incon} = \\mu_{con}$$**\n",
    "\n",
    "**$$H_{1} : \\mu_{incon} \\neq \\mu_{con}$$**\n",
    "\n",
    "Where - <br>\n",
    "<div style=\"padding-left:50px\">$\\mu_{con}$ is the population mean of the congruent condition</div>\n",
    "    \n",
    "<div style=\"padding-left:50px\">$\\mu_{incon}$ is the population mean of the incongruent condition</div>\n",
    "\n",
    "<br>\n",
    "<p>As we have such a small sample size (n=24), we are unable to use statistical analysis techniques which rely on Central Limit Theorem. Instead we will perform a dependent paired t-test. This is suitable as we have a single sample tested under two conditions (congruence and incongruence). It is likely that the result of one will affect the other. Some people will naturally be faster than others regardless of the condition they are subjected to.</p>"
   ]
  },
  {
   "cell_type": "markdown",
   "metadata": {},
   "source": [
    "Just to get an idea of what the data looks like, we will look at some descriptive statistics."
   ]
  },
  {
   "cell_type": "code",
   "execution_count": 62,
   "metadata": {
    "collapsed": true
   },
   "outputs": [],
   "source": [
    "#Importing libraries\n",
    "import pandas as pd\n",
    "import numpy as np\n",
    "import scipy.stats as stats\n",
    "import matplotlib.pyplot as plt\n",
    "plt.style.use('ggplot')\n",
    "\n",
    "%matplotlib inline"
   ]
  },
  {
   "cell_type": "code",
   "execution_count": 63,
   "metadata": {},
   "outputs": [
    {
     "data": {
      "text/html": [
       "<div>\n",
       "<style>\n",
       "    .dataframe thead tr:only-child th {\n",
       "        text-align: right;\n",
       "    }\n",
       "\n",
       "    .dataframe thead th {\n",
       "        text-align: left;\n",
       "    }\n",
       "\n",
       "    .dataframe tbody tr th {\n",
       "        vertical-align: top;\n",
       "    }\n",
       "</style>\n",
       "<table border=\"1\" class=\"dataframe\">\n",
       "  <thead>\n",
       "    <tr style=\"text-align: right;\">\n",
       "      <th></th>\n",
       "      <th>Congruent</th>\n",
       "      <th>Incongruent</th>\n",
       "    </tr>\n",
       "  </thead>\n",
       "  <tbody>\n",
       "    <tr>\n",
       "      <th>count</th>\n",
       "      <td>24.000000</td>\n",
       "      <td>24.000000</td>\n",
       "    </tr>\n",
       "    <tr>\n",
       "      <th>mean</th>\n",
       "      <td>14.051125</td>\n",
       "      <td>22.015917</td>\n",
       "    </tr>\n",
       "    <tr>\n",
       "      <th>std</th>\n",
       "      <td>3.559358</td>\n",
       "      <td>4.797057</td>\n",
       "    </tr>\n",
       "    <tr>\n",
       "      <th>min</th>\n",
       "      <td>8.630000</td>\n",
       "      <td>15.687000</td>\n",
       "    </tr>\n",
       "    <tr>\n",
       "      <th>25%</th>\n",
       "      <td>11.895250</td>\n",
       "      <td>18.716750</td>\n",
       "    </tr>\n",
       "    <tr>\n",
       "      <th>50%</th>\n",
       "      <td>14.356500</td>\n",
       "      <td>21.017500</td>\n",
       "    </tr>\n",
       "    <tr>\n",
       "      <th>75%</th>\n",
       "      <td>16.200750</td>\n",
       "      <td>24.051500</td>\n",
       "    </tr>\n",
       "    <tr>\n",
       "      <th>max</th>\n",
       "      <td>22.328000</td>\n",
       "      <td>35.255000</td>\n",
       "    </tr>\n",
       "  </tbody>\n",
       "</table>\n",
       "</div>"
      ],
      "text/plain": [
       "       Congruent  Incongruent\n",
       "count  24.000000    24.000000\n",
       "mean   14.051125    22.015917\n",
       "std     3.559358     4.797057\n",
       "min     8.630000    15.687000\n",
       "25%    11.895250    18.716750\n",
       "50%    14.356500    21.017500\n",
       "75%    16.200750    24.051500\n",
       "max    22.328000    35.255000"
      ]
     },
     "execution_count": 63,
     "metadata": {},
     "output_type": "execute_result"
    }
   ],
   "source": [
    "# Reading in dataset\n",
    "df = pd.read_csv('stroopdata.csv')\n",
    "\n",
    "# Descriptive statistics\n",
    "df.describe()"
   ]
  },
  {
   "cell_type": "markdown",
   "metadata": {},
   "source": [
    "As we can see from the above, the Incongruent mean is approximately 8s longer than the congruent mean. We can also see that the Incongruent data has a larger range. Histograms can be created to get a better look at these distributions"
   ]
  },
  {
   "cell_type": "code",
   "execution_count": 64,
   "metadata": {},
   "outputs": [
    {
     "data": {
      "image/png": "[encoded data removed]",
      "text/plain": [
       "<matplotlib.figure.Figure at 0x1161956f98>"
      ]
     },
     "metadata": {},
     "output_type": "display_data"
    }
   ],
   "source": [
    "# Overlay histogram\n",
    "title = 'Histogram Overlay of Conditions'\n",
    "df.plot(title=title, kind='hist', alpha=0.6, bins=12)\n",
    "plt.xlabel('Time (s)')\n",
    "plt.axis([0,37,0,8]);"
   ]
  },
  {
   "cell_type": "markdown",
   "metadata": {},
   "source": [
    "Observing the dual histogram visual above, the majority of the congruent times are below those of the incongruent condition. Potential outliers aside, there is a neat overlap between approximately 15s and 20s.\n",
    "\n",
    "To get a better sense of how much longer the incongruent condition takes for participants to complete a difference histogram can be generated."
   ]
  },
  {
   "cell_type": "code",
   "execution_count": 65,
   "metadata": {},
   "outputs": [
    {
     "data": {
      "image/png": "[encoded data removed]",
      "text/plain": [
       "<matplotlib.figure.Figure at 0x1161b1bb00>"
      ]
     },
     "metadata": {},
     "output_type": "display_data"
    }
   ],
   "source": [
    "# Difference histogram\n",
    "diff = df[\"Incongruent\"] - df[\"Congruent\"]\n",
    "title = 'Histogram of the Difference between Conditions'\n",
    "diff.plot(title=title, kind='hist', alpha=0.6, bins=12)\n",
    "plt.xlabel('Time (s)')\n",
    "plt.axis([0,24,0,8]);"
   ]
  },
  {
   "cell_type": "markdown",
   "metadata": {},
   "source": [
    "It appears that for each pair of results, the Incongruent time is greater than the congruent. The shape of the histogram is unknown and with more data, a shape would become more evident. "
   ]
  },
  {
   "cell_type": "markdown",
   "metadata": {},
   "source": [
    "## Dependent T-test\n",
    "\n",
    "A dependent t-test is performed to analyse the data.\n",
    "\n",
    "(5) Now, perform the statistical test and report the results. What is the confidence level and your critical statistic value? Do you reject the null hypothesis or fail to reject it? Come to a conclusion in terms of the experiment task. Did the results match up with your expectations?"
   ]
  },
  {
   "cell_type": "code",
   "execution_count": 66,
   "metadata": {
    "collapsed": true
   },
   "outputs": [],
   "source": [
    "# Performing dependent t-test\n",
    "con = df['Congruent']\n",
    "incon = df['Incongruent']\n",
    "result = stats.ttest_rel(incon, con)\n",
    "tstat = result[0]\n",
    "pval = result[1]"
   ]
  },
  {
   "cell_type": "code",
   "execution_count": 67,
   "metadata": {},
   "outputs": [
    {
     "name": "stdout",
     "output_type": "stream",
     "text": [
      "t-statistic = 8.02070694\n",
      "p-value = 0.00000004\n"
     ]
    }
   ],
   "source": [
    "print(\"t-statistic = \" + '%.8f' % tstat)\n",
    "print(\"p-value = \" + '%.8f' % pval)"
   ]
  },
  {
   "cell_type": "markdown",
   "metadata": {},
   "source": [
    "Our t-statistic is approximately 8 with a p-value of less than 0.05. "
   ]
  },
  {
   "cell_type": "code",
   "execution_count": 68,
   "metadata": {},
   "outputs": [
    {
     "name": "stdout",
     "output_type": "stream",
     "text": [
      "The degrees of freedom is 23\n"
     ]
    }
   ],
   "source": [
    "# Calculating degrees of freedom\n",
    "sample_size = df.shape[0]\n",
    "dof = sample_size - 1\n",
    "print(\"The degrees of freedom is {}\".format(dof))"
   ]
  },
  {
   "cell_type": "markdown",
   "metadata": {},
   "source": [
    "Our analysis reveals that it took participants longer under the incongruent condition than the congruent condition. \n",
    "\n",
    "With 95% confidence and 23 degrees of freedom, our critical statistic value is __1.714__.\n",
    "\n",
    "__ We reject the null hypothesis as it has been shown with 95% confidence that there is a statistically significant difference between the condtions __"
   ]
  }
 ],
 "metadata": {
  "kernelspec": {
   "display_name": "Python 3",
   "language": "python",
   "name": "python3"
  },
  "language_info": {
   "codemirror_mode": {
    "name": "ipython",
    "version": 3
   },
   "file_extension": ".py",
   "mimetype": "text/x-python",
   "name": "python",
   "nbconvert_exporter": "python",
   "pygments_lexer": "ipython3",
   "version": "3.6.2"
  }
 },
 "nbformat": 4,
 "nbformat_minor": 2
}
